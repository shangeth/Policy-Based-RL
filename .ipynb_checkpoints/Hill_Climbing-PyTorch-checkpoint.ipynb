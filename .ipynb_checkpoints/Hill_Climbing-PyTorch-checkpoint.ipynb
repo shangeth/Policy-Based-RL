{
 "cells": [
  {
   "cell_type": "markdown",
   "metadata": {},
   "source": [
    "# Import Packages"
   ]
  },
  {
   "cell_type": "code",
   "execution_count": 1,
   "metadata": {},
   "outputs": [],
   "source": [
    "# install necessary tools\n",
    "# !pip3 install box2d\n",
    "# !apt-get install python-opengl\n",
    "# !python -m pip install pyvirtualdisplay\n",
    "\n",
    "#import libraries\n",
    "import gym\n",
    "import random\n",
    "import torch\n",
    "import torch.nn as nn\n",
    "import numpy as np\n",
    "import time\n",
    "from collections import deque\n",
    "import matplotlib.pyplot as plt\n",
    "%matplotlib inline\n",
    "\n",
    "\n",
    "from pyvirtualdisplay import Display\n",
    "display = Display(visible=0, size=(1400, 900))\n",
    "display.start()\n",
    "\n",
    "is_ipython = 'inline' in plt.get_backend()\n",
    "if is_ipython:\n",
    "    from IPython import display\n",
    "\n",
    "plt.ion()\n",
    "\n",
    "device = torch.device(\"cuda:0\" if torch.cuda.is_available() else \"cpu\")\n",
    "\n",
    "# SEED = 1\n",
    "# np.random.seed(SEED)\n",
    "# torch.manual_seed(SEED)\n",
    "# torch.backends.cudnn.deterministic = True\n",
    "# torch.backends.cudnn.benchmark = False"
   ]
  },
  {
   "cell_type": "markdown",
   "metadata": {},
   "source": [
    "# CartPole Environment"
   ]
  },
  {
   "cell_type": "code",
   "execution_count": 2,
   "metadata": {},
   "outputs": [
    {
     "name": "stdout",
     "output_type": "stream",
     "text": [
      "observation space: Box(4,)\n",
      "action space: Discrete(2)\n"
     ]
    }
   ],
   "source": [
    "env = gym.make('CartPole-v0')\n",
    "print('observation space:', env.observation_space)\n",
    "print('action space:', env.action_space)"
   ]
  },
  {
   "cell_type": "markdown",
   "metadata": {},
   "source": [
    "## Random Action Policy"
   ]
  },
  {
   "cell_type": "code",
   "execution_count": 3,
   "metadata": {},
   "outputs": [
    {
     "data": {
      "image/png": "[encoded data removed]",
      "text/plain": [
       "<Figure size 432x288 with 1 Axes>"
      ]
     },
     "metadata": {
      "needs_background": "light"
     },
     "output_type": "display_data"
    }
   ],
   "source": [
    "state = env.reset()\n",
    "img = plt.imshow(env.render(mode='rgb_array'))\n",
    "for j in range(100):\n",
    "    action = env.action_space.sample()\n",
    "    img.set_data(env.render(mode='rgb_array')) \n",
    "    plt.axis('off')\n",
    "    display.display(plt.gcf())\n",
    "    display.clear_output(wait=True)\n",
    "    state, reward, done, _ = env.step(action)\n",
    "        \n",
    "env.close()"
   ]
  },
  {
   "cell_type": "markdown",
   "metadata": {},
   "source": [
    "# Policy Network"
   ]
  },
  {
   "cell_type": "code",
   "execution_count": 4,
   "metadata": {},
   "outputs": [],
   "source": [
    "class Policy(nn.Module):\n",
    "    def __init__(self, state_size=4, action_size=2):\n",
    "        super(Policy, self).__init__()\n",
    "        self.state_size = state_size\n",
    "        self.action_size = action_size\n",
    "        self.linear = nn.Linear(state_size, action_size)\n",
    "        self.softmax = nn.Softmax(dim=1)\n",
    "    \n",
    "    def forward(self, state):\n",
    "        logits = self.linear(state.to(device))\n",
    "        action_probs = self.softmax(logits)\n",
    "        return action_probs\n",
    "    \n",
    "    def act(self, state):\n",
    "        action_probs = self.forward(state)\n",
    "        action = action_probs.argmax(dim=1).cpu().item()\n",
    "        return action\n",
    "    \n",
    "    def step(self, env, state):\n",
    "        state = torch.from_numpy(state).view(-1, self.state_size).float().to(device)\n",
    "        action = self.act(state)\n",
    "        state, reward, done, _ = env.step(action)\n",
    "        return state, reward, done\n",
    "    \n",
    "    def get_weights(self):\n",
    "        return self.linear.weight \n",
    "    \n",
    "    def update_weights(self, new_weights):\n",
    "        self.linear.weight = nn.Parameter(new_weights.to(device))\n",
    "        \n",
    "    def add_to_weight(self, addition_weight):\n",
    "        with torch.no_grad():\n",
    "            self.linear.weight  +=  nn.Parameter(addition_weight.to(device))\n",
    "    \n",
    "    def save_model(self, filename='trained_model.pth'):\n",
    "        torch.save(self.state_dict(), filename)\n",
    "        \n",
    "    def load_model(self, filename='trained_model.pth'):\n",
    "        self.load_state_dict(torch.load(filename))"
   ]
  },
  {
   "cell_type": "code",
   "execution_count": 5,
   "metadata": {},
   "outputs": [
    {
     "data": {
      "text/plain": [
       "(tensor([[ 0.4797,  0.5203]], device='cuda:0'), 1)"
      ]
     },
     "execution_count": 5,
     "metadata": {},
     "output_type": "execute_result"
    }
   ],
   "source": [
    "x = torch.randn(1,4).to(device)\n",
    "policy = Policy().to(device)\n",
    "policy(x), policy.act(x)"
   ]
  },
  {
   "cell_type": "code",
   "execution_count": 6,
   "metadata": {},
   "outputs": [
    {
     "data": {
      "text/plain": [
       "(array([-0.01948389,  0.23156741,  0.04262502, -0.24739439]), 1.0, False)"
      ]
     },
     "execution_count": 6,
     "metadata": {},
     "output_type": "execute_result"
    }
   ],
   "source": [
    "policy.step(env, env.reset())"
   ]
  },
  {
   "cell_type": "code",
   "execution_count": 7,
   "metadata": {},
   "outputs": [
    {
     "data": {
      "text/plain": [
       "Parameter containing:\n",
       "tensor([[ 0.2855, -0.4036, -0.2913,  0.4627],\n",
       "        [-0.0478,  0.2436,  0.4406,  0.3721]], device='cuda:0')"
      ]
     },
     "execution_count": 7,
     "metadata": {},
     "output_type": "execute_result"
    }
   ],
   "source": [
    "policy.get_weights()"
   ]
  },
  {
   "cell_type": "code",
   "execution_count": 8,
   "metadata": {},
   "outputs": [
    {
     "data": {
      "text/plain": [
       "Parameter containing:\n",
       "tensor([[ 1.,  1.,  1.,  1.],\n",
       "        [ 1.,  1.,  1.,  1.]], device='cuda:0')"
      ]
     },
     "execution_count": 8,
     "metadata": {},
     "output_type": "execute_result"
    }
   ],
   "source": [
    "policy.update_weights(torch.ones(policy.linear.weight.data.shape))\n",
    "policy.get_weights()"
   ]
  },
  {
   "cell_type": "code",
   "execution_count": 9,
   "metadata": {},
   "outputs": [
    {
     "data": {
      "text/plain": [
       "Parameter containing:\n",
       "tensor([[ 2.,  2.,  2.,  2.],\n",
       "        [ 2.,  2.,  2.,  2.]], device='cuda:0')"
      ]
     },
     "execution_count": 9,
     "metadata": {},
     "output_type": "execute_result"
    }
   ],
   "source": [
    "policy.add_to_weight(torch.ones(policy.linear.weight.data.shape))\n",
    "policy.linear.weight "
   ]
  },
  {
   "cell_type": "markdown",
   "metadata": {},
   "source": [
    "## Policy of untrained policy network"
   ]
  },
  {
   "cell_type": "code",
   "execution_count": 6,
   "metadata": {},
   "outputs": [
    {
     "data": {
      "image/png": "[encoded data removed]",
      "text/plain": [
       "<Figure size 432x288 with 1 Axes>"
      ]
     },
     "metadata": {
      "needs_background": "light"
     },
     "output_type": "display_data"
    }
   ],
   "source": [
    "import imageio\n",
    "images = []\n",
    "\n",
    "state = env.reset()\n",
    "img = plt.imshow(env.render(mode='rgb_array'))\n",
    "for j in range(500):\n",
    "    state = torch.from_numpy(state).view(-1, 4).float()\n",
    "    action = policy.act(state)\n",
    "    frame = env.render(mode='rgb_array')\n",
    "    images.append(frame)\n",
    "    img.set_data(frame) \n",
    "    plt.axis('off')\n",
    "    display.display(plt.gcf())\n",
    "    display.clear_output(wait=True)\n",
    "    state, reward, done, _ = env.step(action)\n",
    "\n",
    "env.close()\n",
    "kargs = { 'fps': 100 }\n",
    "imageio.mimsave('1_random_policy.gif', images, **kargs)"
   ]
  },
  {
   "cell_type": "markdown",
   "metadata": {},
   "source": [
    "# Train the Agent"
   ]
  },
  {
   "cell_type": "code",
   "execution_count": 11,
   "metadata": {},
   "outputs": [],
   "source": [
    "def train_policy_network(policy, n_episodes=2000, max_time=2000, gamma=1.0, print_every=100, noise_scale=1e-3):\n",
    "    scores_deque = deque(maxlen=100)\n",
    "    scores = []\n",
    "    best_Reward = -np.Inf\n",
    "    best_Weights = policy.get_weights()\n",
    "    \n",
    "    for i_episode in range(1, n_episodes+1):\n",
    "        rewards = []\n",
    "        state = env.reset()\n",
    "        for t in range(max_time):\n",
    "            state = torch.from_numpy(state).view(-1, 4).float()\n",
    "            action = policy.act(state)\n",
    "            state, reward, done, _ = env.step(action)\n",
    "            rewards.append(reward)\n",
    "            if done: break\n",
    "        scores_deque.append(sum(rewards))\n",
    "        scores.append(sum(rewards))\n",
    "        \n",
    "        discounts = [gamma**i for i in range(len(rewards)+1)]\n",
    "        Reward = sum([a*b for a,b in zip(discounts, rewards)])\n",
    "        \n",
    "        if Reward >= best_Reward:\n",
    "            best_Reward = Reward\n",
    "            best_Weights = policy.get_weights()\n",
    "            noise_scale = max(1e-3, noise_scale/2)\n",
    "            policy.add_to_weight(noise_scale * torch.randn(policy.get_weights().shape))\n",
    "        else:\n",
    "            noise_scale = min(2, noise_scale * 2)\n",
    "            policy.update_weights(best_Weights + noise_scale * torch.randn(policy.get_weights().shape).to(device))\n",
    "            \n",
    "        if i_episode % print_every == 0:\n",
    "            print('Episode {}\\tLatest Score: {:.2f}\\tAverage Score: {:.2f}'.format(i_episode, scores_deque[-1], np.mean(scores_deque)))\n",
    "    return policy, scores"
   ]
  },
  {
   "cell_type": "code",
   "execution_count": 12,
   "metadata": {},
   "outputs": [
    {
     "name": "stdout",
     "output_type": "stream",
     "text": [
      "Parameter containing:\n",
      "tensor([[ 0.1166,  0.1913, -0.1814, -0.3876],\n",
      "        [-0.1283,  0.2113, -0.0179,  0.2768]])\n",
      "Episode 100\tLatest Score: 200.00\tAverage Score: 134.42\n",
      "Episode 200\tLatest Score: 200.00\tAverage Score: 200.00\n",
      "Episode 300\tLatest Score: 200.00\tAverage Score: 200.00\n",
      "Episode 400\tLatest Score: 200.00\tAverage Score: 200.00\n",
      "Episode 500\tLatest Score: 200.00\tAverage Score: 200.00\n",
      "Episode 600\tLatest Score: 200.00\tAverage Score: 200.00\n",
      "Episode 700\tLatest Score: 200.00\tAverage Score: 200.00\n",
      "Episode 800\tLatest Score: 200.00\tAverage Score: 200.00\n",
      "Episode 900\tLatest Score: 200.00\tAverage Score: 200.00\n",
      "Episode 1000\tLatest Score: 200.00\tAverage Score: 200.00\n",
      "Episode 1100\tLatest Score: 200.00\tAverage Score: 200.00\n",
      "Episode 1200\tLatest Score: 200.00\tAverage Score: 200.00\n",
      "Episode 1300\tLatest Score: 200.00\tAverage Score: 200.00\n",
      "Episode 1400\tLatest Score: 200.00\tAverage Score: 200.00\n",
      "Episode 1500\tLatest Score: 200.00\tAverage Score: 200.00\n",
      "Episode 1600\tLatest Score: 200.00\tAverage Score: 200.00\n",
      "Episode 1700\tLatest Score: 200.00\tAverage Score: 200.00\n",
      "Episode 1800\tLatest Score: 200.00\tAverage Score: 200.00\n",
      "Episode 1900\tLatest Score: 200.00\tAverage Score: 200.00\n",
      "Episode 2000\tLatest Score: 200.00\tAverage Score: 200.00\n",
      "CPU Time =  20.801168203353882\n"
     ]
    }
   ],
   "source": [
    "device = torch.device(\"cpu\")\n",
    "policy = Policy().to(device)\n",
    "print(policy.get_weights())\n",
    "for param in policy.parameters():\n",
    "    param.requires_grad = False\n",
    "    \n",
    "t1 = time.time()\n",
    "policy, scores = train_policy_network(policy)\n",
    "t2 = time.time()\n",
    "print('CPU Time = ', t2-t1)\n",
    "\n",
    "policy.save_model('trained_hill_climbing.pth')"
   ]
  },
  {
   "cell_type": "code",
   "execution_count": 13,
   "metadata": {},
   "outputs": [
    {
     "data": {
      "image/png": "[encoded data removed]",
      "text/plain": [
       "<Figure size 864x360 with 1 Axes>"
      ]
     },
     "metadata": {
      "needs_background": "light"
     },
     "output_type": "display_data"
    }
   ],
   "source": [
    "def running_mean(x, N):\n",
    "    cumsum = np.cumsum(np.insert(x, 0, 0)) \n",
    "    return (cumsum[N:] - cumsum[:-N]) / float(N)\n",
    "\n",
    "running_mean_scores = running_mean(scores, 20)\n",
    "\n",
    "fig = plt.figure(figsize=(12,5))\n",
    "ax = fig.add_subplot(111)\n",
    "plt.plot(np.arange(1, len(scores)+1), scores)\n",
    "plt.plot(np.arange(1, len(running_mean_scores)+1), running_mean_scores)\n",
    "plt.ylabel('Score')\n",
    "plt.xlabel('Episodes')\n",
    "plt.show()"
   ]
  },
  {
   "cell_type": "markdown",
   "metadata": {},
   "source": [
    "# Trained Agent"
   ]
  },
  {
   "cell_type": "code",
   "execution_count": 14,
   "metadata": {},
   "outputs": [
    {
     "name": "stdout",
     "output_type": "stream",
     "text": [
      "Done at  199\n"
     ]
    },
    {
     "data": {
      "image/png": "[encoded data removed]",
      "text/plain": [
       "<Figure size 432x288 with 1 Axes>"
      ]
     },
     "metadata": {
      "needs_background": "light"
     },
     "output_type": "display_data"
    }
   ],
   "source": [
    "import imageio\n",
    "images = []\n",
    "\n",
    "state = env.reset()\n",
    "img = plt.imshow(env.render(mode='rgb_array'))\n",
    "for j in range(500):\n",
    "    state = torch.from_numpy(state).view(-1, 4).float()\n",
    "    action = policy.act(state)\n",
    "    frame = env.render(mode='rgb_array')\n",
    "    images.append(frame)\n",
    "    img.set_data(frame) \n",
    "    plt.axis('off')\n",
    "    display.display(plt.gcf())\n",
    "    display.clear_output(wait=True)\n",
    "    state, reward, done, _ = env.step(action)\n",
    "    if done:\n",
    "        print('Done at ', j)\n",
    "        break\n",
    "        \n",
    "env.close()\n",
    "kargs = { 'fps': 100 }\n",
    "imageio.mimsave('2_trained_hill_climbing.gif', images, **kargs)"
   ]
  },
  {
   "cell_type": "code",
   "execution_count": 15,
   "metadata": {},
   "outputs": [
    {
     "data": {
      "text/plain": [
       "Parameter containing:\n",
       "tensor([[ 5.5798,  0.5197, -5.5435, -7.0717],\n",
       "        [ 5.8716,  5.7923,  7.2549,  0.0199]])"
      ]
     },
     "execution_count": 15,
     "metadata": {},
     "output_type": "execute_result"
    }
   ],
   "source": [
    "policy.get_weights()"
   ]
  }
 ],
 "metadata": {
  "kernelspec": {
   "display_name": "dlenv",
   "language": "python",
   "name": "dlenv"
  },
  "language_info": {
   "codemirror_mode": {
    "name": "ipython",
    "version": 3
   },
   "file_extension": ".py",
   "mimetype": "text/x-python",
   "name": "python",
   "nbconvert_exporter": "python",
   "pygments_lexer": "ipython3",
   "version": "3.6.9"
  }
 },
 "nbformat": 4,
 "nbformat_minor": 4
}
