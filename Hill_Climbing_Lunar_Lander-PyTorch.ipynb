{
 "cells": [
  {
   "cell_type": "markdown",
   "metadata": {},
   "source": [
    "# Import Packages"
   ]
  },
  {
   "cell_type": "code",
   "execution_count": 1,
   "metadata": {},
   "outputs": [],
   "source": [
    "# install necessary tools\n",
    "# !pip3 install box2d\n",
    "# !apt-get install python-opengl\n",
    "# !python -m pip install pyvirtualdisplay\n",
    "\n",
    "#import libraries\n",
    "import gym\n",
    "import random\n",
    "import torch\n",
    "import torch.nn as nn\n",
    "import numpy as np\n",
    "import time\n",
    "from collections import deque\n",
    "import matplotlib.pyplot as plt\n",
    "%matplotlib inline\n",
    "\n",
    "import imageio\n",
    "from pyvirtualdisplay import Display\n",
    "display = Display(visible=0, size=(1400, 900))\n",
    "display.start()\n",
    "\n",
    "is_ipython = 'inline' in plt.get_backend()\n",
    "if is_ipython:\n",
    "    from IPython import display\n",
    "\n",
    "plt.ion()\n",
    "\n",
    "device = torch.device(\"cuda:0\" if torch.cuda.is_available() else \"cpu\")\n",
    "\n",
    "# SEED = 1\n",
    "# np.random.seed(SEED)\n",
    "# torch.manual_seed(SEED)\n",
    "# torch.backends.cudnn.deterministic = True\n",
    "# torch.backends.cudnn.benchmark = False"
   ]
  },
  {
   "cell_type": "markdown",
   "metadata": {},
   "source": [
    "# CartPole Environment"
   ]
  },
  {
   "cell_type": "code",
   "execution_count": 2,
   "metadata": {},
   "outputs": [
    {
     "name": "stdout",
     "output_type": "stream",
     "text": [
      "observation space: Box(8,)\n",
      "action space: Discrete(4)\n"
     ]
    }
   ],
   "source": [
    "env = gym.make('LunarLander-v2')\n",
    "print('observation space:', env.observation_space)\n",
    "print('action space:', env.action_space)"
   ]
  },
  {
   "cell_type": "markdown",
   "metadata": {},
   "source": [
    "## Random Action Policy"
   ]
  },
  {
   "cell_type": "code",
   "execution_count": 3,
   "metadata": {},
   "outputs": [
    {
     "data": {
      "image/png": "[encoded data removed]",
      "text/plain": [
       "<Figure size 432x288 with 1 Axes>"
      ]
     },
     "metadata": {
      "needs_background": "light"
     },
     "output_type": "display_data"
    }
   ],
   "source": [
    "state = env.reset()\n",
    "img = plt.imshow(env.render(mode='rgb_array'))\n",
    "for j in range(100):\n",
    "    action = env.action_space.sample()\n",
    "    img.set_data(env.render(mode='rgb_array')) \n",
    "    plt.axis('off')\n",
    "    display.display(plt.gcf())\n",
    "    display.clear_output(wait=True)\n",
    "    state, reward, done, _ = env.step(action)\n",
    "        \n",
    "env.close()"
   ]
  },
  {
   "cell_type": "markdown",
   "metadata": {},
   "source": [
    "# Policy Network"
   ]
  },
  {
   "cell_type": "code",
   "execution_count": 3,
   "metadata": {},
   "outputs": [],
   "source": [
    "class Policy(nn.Module):\n",
    "    def __init__(self, state_size=8, action_size=4):\n",
    "        super(Policy, self).__init__()\n",
    "        self.state_size = state_size\n",
    "        self.action_size = action_size\n",
    "        self.linear = nn.Linear(state_size, action_size)\n",
    "        self.softmax = nn.Softmax(dim=1)\n",
    "    \n",
    "    def forward(self, state):\n",
    "        logits = self.linear(state.to(device))\n",
    "        action_probs = self.softmax(logits)\n",
    "        return action_probs\n",
    "    \n",
    "    def act(self, state):\n",
    "        action_probs = self.forward(state)\n",
    "        action = action_probs.argmax(dim=1).cpu().item()\n",
    "        return action\n",
    "    \n",
    "    def step(self, env, state):\n",
    "        state = torch.from_numpy(state).view(-1, self.state_size).float().to(device)\n",
    "        action = self.act(state)\n",
    "        state, reward, done, _ = env.step(action)\n",
    "        return state, reward, done\n",
    "    \n",
    "    def get_weights(self):\n",
    "        return self.linear.weight \n",
    "    \n",
    "    def update_weights(self, new_weights):\n",
    "        self.linear.weight = nn.Parameter(new_weights.to(device))\n",
    "        \n",
    "    def add_to_weight(self, addition_weight):\n",
    "        with torch.no_grad():\n",
    "            self.linear.weight  +=  nn.Parameter(addition_weight.to(device))\n",
    "    \n",
    "    def save_model(self, filename='trained_model.pth'):\n",
    "        torch.save(self.state_dict(), filename)\n",
    "        \n",
    "    def load_model(self, filename='trained_model.pth'):\n",
    "        self.load_state_dict(torch.load(filename))"
   ]
  },
  {
   "cell_type": "code",
   "execution_count": 4,
   "metadata": {},
   "outputs": [
    {
     "data": {
      "text/plain": [
       "(tensor([[ 0.2121,  0.3470,  0.3973,  0.0435]], device='cuda:0'), 2)"
      ]
     },
     "execution_count": 4,
     "metadata": {},
     "output_type": "execute_result"
    }
   ],
   "source": [
    "x = torch.randn(1,8).to(device)\n",
    "policy = Policy().to(device)\n",
    "policy(x), policy.act(x)"
   ]
  },
  {
   "cell_type": "code",
   "execution_count": 5,
   "metadata": {},
   "outputs": [
    {
     "data": {
      "text/plain": [
       "(array([ 0.00902977,  1.4137601 ,  0.4519419 ,  0.06286122, -0.01098615,\n",
       "        -0.11400493,  0.        ,  0.        ], dtype=float32),\n",
       " 0.0558514623019562,\n",
       " False)"
      ]
     },
     "execution_count": 5,
     "metadata": {},
     "output_type": "execute_result"
    }
   ],
   "source": [
    "policy.step(env, env.reset())"
   ]
  },
  {
   "cell_type": "code",
   "execution_count": 6,
   "metadata": {},
   "outputs": [
    {
     "data": {
      "text/plain": [
       "Parameter containing:\n",
       "tensor([[ 0.2052, -0.1780,  0.1796,  0.0705, -0.1366,  0.3469,  0.1919,\n",
       "          0.1205],\n",
       "        [-0.2620, -0.1834,  0.0011, -0.1336, -0.2329,  0.2178,  0.2455,\n",
       "         -0.0621],\n",
       "        [-0.2447,  0.0881, -0.0086,  0.0903,  0.1339,  0.2966, -0.0845,\n",
       "         -0.2922],\n",
       "        [ 0.1275, -0.2466, -0.2128,  0.2357,  0.0226, -0.2742, -0.2823,\n",
       "         -0.0632]], device='cuda:0')"
      ]
     },
     "execution_count": 6,
     "metadata": {},
     "output_type": "execute_result"
    }
   ],
   "source": [
    "policy.get_weights()"
   ]
  },
  {
   "cell_type": "code",
   "execution_count": 7,
   "metadata": {},
   "outputs": [
    {
     "data": {
      "text/plain": [
       "Parameter containing:\n",
       "tensor([[ 1.,  1.,  1.,  1.,  1.,  1.,  1.,  1.],\n",
       "        [ 1.,  1.,  1.,  1.,  1.,  1.,  1.,  1.],\n",
       "        [ 1.,  1.,  1.,  1.,  1.,  1.,  1.,  1.],\n",
       "        [ 1.,  1.,  1.,  1.,  1.,  1.,  1.,  1.]], device='cuda:0')"
      ]
     },
     "execution_count": 7,
     "metadata": {},
     "output_type": "execute_result"
    }
   ],
   "source": [
    "policy.update_weights(torch.ones(policy.linear.weight.data.shape))\n",
    "policy.get_weights()"
   ]
  },
  {
   "cell_type": "code",
   "execution_count": 8,
   "metadata": {},
   "outputs": [
    {
     "data": {
      "text/plain": [
       "Parameter containing:\n",
       "tensor([[ 2.,  2.,  2.,  2.,  2.,  2.,  2.,  2.],\n",
       "        [ 2.,  2.,  2.,  2.,  2.,  2.,  2.,  2.],\n",
       "        [ 2.,  2.,  2.,  2.,  2.,  2.,  2.,  2.],\n",
       "        [ 2.,  2.,  2.,  2.,  2.,  2.,  2.,  2.]], device='cuda:0')"
      ]
     },
     "execution_count": 8,
     "metadata": {},
     "output_type": "execute_result"
    }
   ],
   "source": [
    "policy.add_to_weight(torch.ones(policy.linear.weight.data.shape))\n",
    "policy.linear.weight "
   ]
  },
  {
   "cell_type": "markdown",
   "metadata": {},
   "source": [
    "## Policy of untrained policy network"
   ]
  },
  {
   "cell_type": "code",
   "execution_count": 10,
   "metadata": {},
   "outputs": [
    {
     "data": {
      "image/png": "[encoded data removed]",
      "text/plain": [
       "<Figure size 432x288 with 1 Axes>"
      ]
     },
     "metadata": {
      "needs_background": "light"
     },
     "output_type": "display_data"
    }
   ],
   "source": [
    "import imageio\n",
    "images = []\n",
    "\n",
    "state = env.reset()\n",
    "img = plt.imshow(env.render(mode='rgb_array'))\n",
    "for j in range(100):\n",
    "    state = torch.from_numpy(state).view(-1, 8).float()\n",
    "    action = policy.act(state)\n",
    "    frame = env.render(mode='rgb_array')\n",
    "    images.append(frame)\n",
    "    img.set_data(frame) \n",
    "    plt.axis('off')\n",
    "    display.display(plt.gcf())\n",
    "    display.clear_output(wait=True)\n",
    "    state, reward, done, _ = env.step(action)\n",
    "\n",
    "env.close()\n",
    "kargs = { 'fps': 100 }\n",
    "imageio.mimsave('1_random_policy_lunar_lander.gif', images, **kargs)"
   ]
  },
  {
   "cell_type": "markdown",
   "metadata": {},
   "source": [
    "# Train the Agent"
   ]
  },
  {
   "cell_type": "code",
   "execution_count": 9,
   "metadata": {},
   "outputs": [],
   "source": [
    "def train_policy_network(policy, n_episodes=2000, max_time=1000, gamma=1.0, print_every=100, noise_scale=1e-3, save_training=False):\n",
    "    if save_training:\n",
    "        IMAGES = []\n",
    "    else:\n",
    "        IMAGES = None\n",
    "    scores_deque = deque(maxlen=100)\n",
    "    scores = []\n",
    "    best_Reward = -np.Inf\n",
    "    best_Weights = policy.get_weights()\n",
    "    \n",
    "    for i_episode in range(1, n_episodes+1):\n",
    "        rewards = []\n",
    "        state = env.reset()\n",
    "        for t in range(max_time):\n",
    "            state = torch.from_numpy(state).view(-1, 8).float()\n",
    "            frame = env.render(mode='rgb_array')\n",
    "            if save_training:\n",
    "                IMAGES.append(frame)\n",
    "            action = policy.act(state)\n",
    "            state, reward, done, _ = env.step(action)\n",
    "            frame = env.render(mode='rgb_array')\n",
    "            rewards.append(reward)\n",
    "            if done: break\n",
    "        scores_deque.append(sum(rewards))\n",
    "        scores.append(sum(rewards))\n",
    "        \n",
    "        discounts = [gamma**i for i in range(len(rewards)+1)]\n",
    "        Reward = sum([a*b for a,b in zip(discounts, rewards)])\n",
    "        \n",
    "        if Reward >= best_Reward:\n",
    "            best_Reward = Reward\n",
    "            best_Weights = policy.get_weights()\n",
    "            noise_scale = max(1e-3, noise_scale/2)\n",
    "            policy.add_to_weight(noise_scale * torch.randn(policy.get_weights().shape))\n",
    "        else:\n",
    "            noise_scale = min(2, noise_scale * 2)\n",
    "            policy.update_weights(best_Weights + noise_scale * torch.randn(policy.get_weights().shape).to(device))\n",
    "            \n",
    "        if i_episode % print_every == 0:\n",
    "            print('Episode {}\\tLatest Score: {:.2f}\\tAverage Score: {:.2f}'.format(i_episode, scores_deque[-1], np.mean(scores_deque)))\n",
    "    if save_training:\n",
    "        kargs = { 'fps': 100 }\n",
    "        imageio.mimsave('training_hill_climbing.gif', IMAGES, **kargs)\n",
    "    return policy, scores, IMAGES"
   ]
  },
  {
   "cell_type": "code",
   "execution_count": 10,
   "metadata": {},
   "outputs": [
    {
     "name": "stdout",
     "output_type": "stream",
     "text": [
      "Parameter containing:\n",
      "tensor([[-0.3246,  0.1080, -0.3244,  0.2753,  0.0245, -0.2817,  0.2380,\n",
      "          0.2689],\n",
      "        [-0.3461,  0.2647, -0.2838,  0.2116, -0.1776,  0.3363,  0.2147,\n",
      "          0.1007],\n",
      "        [-0.1708,  0.1921,  0.3293,  0.0090,  0.1205, -0.0082, -0.1609,\n",
      "          0.1763],\n",
      "        [-0.0812, -0.2592, -0.3055, -0.1452, -0.2402,  0.1529, -0.2015,\n",
      "          0.2285]])\n",
      "Episode 100\tLatest Score: -198.38\tAverage Score: -250.30\n",
      "Episode 200\tLatest Score: -208.17\tAverage Score: -197.98\n",
      "Episode 300\tLatest Score: -126.52\tAverage Score: -176.83\n",
      "Episode 400\tLatest Score: 232.50\tAverage Score: -171.48\n",
      "Episode 500\tLatest Score: 129.70\tAverage Score: -186.63\n",
      "Episode 600\tLatest Score: -325.51\tAverage Score: -122.79\n",
      "Episode 700\tLatest Score: -283.48\tAverage Score: -75.72\n",
      "Episode 800\tLatest Score: 230.30\tAverage Score: -92.69\n",
      "Episode 900\tLatest Score: -4.24\tAverage Score: -182.48\n",
      "Episode 1000\tLatest Score: -337.80\tAverage Score: -242.00\n",
      "Episode 1100\tLatest Score: 35.80\tAverage Score: -87.64\n",
      "Episode 1200\tLatest Score: -403.92\tAverage Score: -183.24\n",
      "Episode 1300\tLatest Score: -480.61\tAverage Score: -168.42\n",
      "Episode 1400\tLatest Score: -434.14\tAverage Score: -179.56\n",
      "Episode 1500\tLatest Score: -68.25\tAverage Score: -140.33\n",
      "Episode 1600\tLatest Score: -81.15\tAverage Score: -170.22\n",
      "Episode 1700\tLatest Score: 6.94\tAverage Score: -139.36\n",
      "Episode 1800\tLatest Score: -28.97\tAverage Score: -136.81\n",
      "Episode 1900\tLatest Score: -244.68\tAverage Score: -246.73\n",
      "Episode 2000\tLatest Score: 204.27\tAverage Score: -139.23\n",
      "CPU Time =  2521.016013145447\n"
     ]
    }
   ],
   "source": [
    "device = torch.device(\"cpu\")\n",
    "policy = Policy().to(device)\n",
    "print(policy.get_weights())\n",
    "for param in policy.parameters():\n",
    "    param.requires_grad = False\n",
    "    \n",
    "t1 = time.time()\n",
    "policy, scores, IMAGES = train_policy_network(policy)\n",
    "t2 = time.time()\n",
    "print('CPU Time = ', t2-t1)\n",
    "\n",
    "policy.save_model('trained_hill_climbing_lunar_lander.pth')"
   ]
  },
  {
   "cell_type": "code",
   "execution_count": 11,
   "metadata": {},
   "outputs": [
    {
     "data": {
      "image/png": "[encoded data removed]",
      "text/plain": [
       "<Figure size 864x360 with 1 Axes>"
      ]
     },
     "metadata": {
      "needs_background": "light"
     },
     "output_type": "display_data"
    }
   ],
   "source": [
    "def running_mean(x, N):\n",
    "    cumsum = np.cumsum(np.insert(x, 0, 0)) \n",
    "    return (cumsum[N:] - cumsum[:-N]) / float(N)\n",
    "\n",
    "running_mean_scores = running_mean(scores, 20)\n",
    "\n",
    "fig = plt.figure(figsize=(12,5))\n",
    "ax = fig.add_subplot(111)\n",
    "plt.plot(np.arange(1, len(scores)+1), scores)\n",
    "plt.plot(np.arange(1, len(running_mean_scores)+1), running_mean_scores)\n",
    "plt.ylabel('Score')\n",
    "plt.xlabel('Episodes')\n",
    "plt.show()"
   ]
  },
  {
   "cell_type": "markdown",
   "metadata": {},
   "source": [
    "# Trained Agent"
   ]
  },
  {
   "cell_type": "code",
   "execution_count": 12,
   "metadata": {},
   "outputs": [
    {
     "name": "stdout",
     "output_type": "stream",
     "text": [
      "Done at  138\n"
     ]
    },
    {
     "data": {
      "image/png": "[encoded data removed]",
      "text/plain": [
       "<Figure size 432x288 with 1 Axes>"
      ]
     },
     "metadata": {
      "needs_background": "light"
     },
     "output_type": "display_data"
    }
   ],
   "source": [
    "import imageio\n",
    "images = []\n",
    "\n",
    "state = env.reset()\n",
    "img = plt.imshow(env.render(mode='rgb_array'))\n",
    "for j in range(500):\n",
    "    state = torch.from_numpy(state).view(-1, 8).float()\n",
    "    action = policy.act(state)\n",
    "    frame = env.render(mode='rgb_array')\n",
    "    images.append(frame)\n",
    "    img.set_data(frame) \n",
    "    plt.axis('off')\n",
    "    display.display(plt.gcf())\n",
    "    display.clear_output(wait=True)\n",
    "    state, reward, done, _ = env.step(action)\n",
    "    if done:\n",
    "        print('Done at ', j)\n",
    "        break\n",
    "        \n",
    "env.close()\n",
    "kargs = { 'fps': 100 }\n",
    "imageio.mimsave('trained_hill_climbing_lunar_lander.gif', images, **kargs)"
   ]
  },
  {
   "cell_type": "code",
   "execution_count": 13,
   "metadata": {},
   "outputs": [
    {
     "data": {
      "text/plain": [
       "Parameter containing:\n",
       "tensor([[  0.7888,   3.0957,  -0.7146,   7.2610,   0.6282,   7.5288,\n",
       "           7.7799,   5.7157],\n",
       "        [  3.9990,   1.7830,  11.2799,   4.3065,  -2.4037,  -5.4144,\n",
       "          -4.7371,  -2.7408],\n",
       "        [  1.7825,   0.1976,  -1.8653,  -5.7206,  -2.6895,   7.8298,\n",
       "           4.3718,  -7.3187],\n",
       "        [ -1.4095,   6.2401,  -1.1868,   4.9452,   5.9118,   2.9766,\n",
       "          -4.8570,   3.1876]])"
      ]
     },
     "execution_count": 13,
     "metadata": {},
     "output_type": "execute_result"
    }
   ],
   "source": [
    "policy.get_weights()"
   ]
  },
  {
   "cell_type": "code",
   "execution_count": null,
   "metadata": {},
   "outputs": [],
   "source": []
  }
 ],
 "metadata": {
  "kernelspec": {
   "display_name": "dlenv",
   "language": "python",
   "name": "dlenv"
  },
  "language_info": {
   "codemirror_mode": {
    "name": "ipython",
    "version": 3
   },
   "file_extension": ".py",
   "mimetype": "text/x-python",
   "name": "python",
   "nbconvert_exporter": "python",
   "pygments_lexer": "ipython3",
   "version": "3.6.9"
  }
 },
 "nbformat": 4,
 "nbformat_minor": 4
}
